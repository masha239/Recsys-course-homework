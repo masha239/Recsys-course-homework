{
  "nbformat": 4,
  "nbformat_minor": 0,
  "metadata": {
    "colab": {
      "name": "vedernikova_m.ipynb",
      "provenance": [],
      "collapsed_sections": [],
      "toc_visible": true
    },
    "kernelspec": {
      "name": "python3",
      "display_name": "Python 3"
    },
    "language_info": {
      "name": "python"
    }
  },
  "cells": [
    {
      "cell_type": "markdown",
      "metadata": {
        "id": "Konisfn0-pfh"
      },
      "source": [
        "**Data loading**"
      ]
    },
    {
      "cell_type": "code",
      "metadata": {
        "id": "3RmCXmfK-q7U"
      },
      "source": [
        "import numpy as np\n",
        "import pandas as pd\n",
        "from matplotlib import pyplot as plt\n",
        "%matplotlib inline\n",
        "import seaborn as sns\n",
        "from tqdm import tqdm\n",
        "from sklearn.preprocessing import StandardScaler, OneHotEncoder\n",
        "from sklearn.linear_model import LogisticRegression, Ridge\n",
        "from sklearn.metrics import log_loss\n",
        "from datetime import datetime, timedelta\n",
        "from scipy import sparse"
      ],
      "execution_count": 2,
      "outputs": []
    },
    {
      "cell_type": "code",
      "metadata": {
        "colab": {
          "base_uri": "https://localhost:8080/"
        },
        "id": "uv7bKOIgHyNk",
        "outputId": "26969c01-a28f-4593-a74f-84cbff49e6e4"
      },
      "source": [
        "from google.colab import drive\n",
        "drive.mount('/content/drive')\n",
        "%cd drive/MyDrive/RecSys/"
      ],
      "execution_count": 3,
      "outputs": [
        {
          "output_type": "stream",
          "name": "stdout",
          "text": [
            "Drive already mounted at /content/drive; to attempt to forcibly remount, call drive.mount(\"/content/drive\", force_remount=True).\n",
            "/content/drive/MyDrive/RecSys\n"
          ]
        }
      ]
    },
    {
      "cell_type": "code",
      "metadata": {
        "id": "Fn9KZo0FJUp2"
      },
      "source": [
        "df = pd.read_csv('data.csv', usecols=['date_time', 'zone_id', 'banner_id', 'campaign_clicks', 'os_id', 'country_id', 'impressions', 'clicks'])\n",
        "df.head()"
      ],
      "execution_count": null,
      "outputs": []
    },
    {
      "cell_type": "code",
      "metadata": {
        "id": "xuyy-xl--QVN"
      },
      "source": [
        "target = df['clicks']\n",
        "df.drop('clicks', axis=1, inplace=True)"
      ],
      "execution_count": 4,
      "outputs": []
    },
    {
      "cell_type": "code",
      "metadata": {
        "colab": {
          "base_uri": "https://localhost:8080/"
        },
        "id": "Q7iExBLoAOK_",
        "outputId": "e36ec654-00a3-4763-a647-a34718e5e24a"
      },
      "source": [
        "df.shape"
      ],
      "execution_count": 5,
      "outputs": [
        {
          "output_type": "execute_result",
          "data": {
            "text/plain": [
              "(15821472, 7)"
            ]
          },
          "metadata": {},
          "execution_count": 5
        }
      ]
    },
    {
      "cell_type": "markdown",
      "metadata": {
        "id": "kejy-Yno5x5v"
      },
      "source": [
        "**Data analysis**"
      ]
    },
    {
      "cell_type": "code",
      "metadata": {
        "colab": {
          "base_uri": "https://localhost:8080/"
        },
        "id": "Js3yxaSL552T",
        "outputId": "34ca1fd6-e933-49ca-b16e-1f259f080ad7"
      },
      "source": [
        "df.isnull().sum().sum()"
      ],
      "execution_count": 6,
      "outputs": [
        {
          "output_type": "execute_result",
          "data": {
            "text/plain": [
              "0"
            ]
          },
          "metadata": {},
          "execution_count": 6
        }
      ]
    },
    {
      "cell_type": "markdown",
      "metadata": {
        "id": "NffqKhtt6h-W"
      },
      "source": [
        "Пропущенных значений нет"
      ]
    },
    {
      "cell_type": "code",
      "metadata": {
        "colab": {
          "base_uri": "https://localhost:8080/",
          "height": 300
        },
        "id": "4d2u-tuL6hYE",
        "outputId": "f28865fe-2b7e-4d1a-df77-adc3bb9c4a81"
      },
      "source": [
        "df.describe()"
      ],
      "execution_count": 7,
      "outputs": [
        {
          "output_type": "execute_result",
          "data": {
            "text/html": [
              "<div>\n",
              "<style scoped>\n",
              "    .dataframe tbody tr th:only-of-type {\n",
              "        vertical-align: middle;\n",
              "    }\n",
              "\n",
              "    .dataframe tbody tr th {\n",
              "        vertical-align: top;\n",
              "    }\n",
              "\n",
              "    .dataframe thead th {\n",
              "        text-align: right;\n",
              "    }\n",
              "</style>\n",
              "<table border=\"1\" class=\"dataframe\">\n",
              "  <thead>\n",
              "    <tr style=\"text-align: right;\">\n",
              "      <th></th>\n",
              "      <th>zone_id</th>\n",
              "      <th>banner_id</th>\n",
              "      <th>campaign_clicks</th>\n",
              "      <th>os_id</th>\n",
              "      <th>country_id</th>\n",
              "      <th>impressions</th>\n",
              "    </tr>\n",
              "  </thead>\n",
              "  <tbody>\n",
              "    <tr>\n",
              "      <th>count</th>\n",
              "      <td>1.582147e+07</td>\n",
              "      <td>1.582147e+07</td>\n",
              "      <td>1.582147e+07</td>\n",
              "      <td>1.582147e+07</td>\n",
              "      <td>1.582147e+07</td>\n",
              "      <td>15821472.0</td>\n",
              "    </tr>\n",
              "    <tr>\n",
              "      <th>mean</th>\n",
              "      <td>8.152679e+01</td>\n",
              "      <td>3.816483e+02</td>\n",
              "      <td>6.238540e-01</td>\n",
              "      <td>1.840605e+00</td>\n",
              "      <td>4.346986e+00</td>\n",
              "      <td>1.0</td>\n",
              "    </tr>\n",
              "    <tr>\n",
              "      <th>std</th>\n",
              "      <td>1.632448e+02</td>\n",
              "      <td>3.959386e+02</td>\n",
              "      <td>9.249152e+00</td>\n",
              "      <td>1.530005e+00</td>\n",
              "      <td>4.317701e+00</td>\n",
              "      <td>0.0</td>\n",
              "    </tr>\n",
              "    <tr>\n",
              "      <th>min</th>\n",
              "      <td>0.000000e+00</td>\n",
              "      <td>0.000000e+00</td>\n",
              "      <td>0.000000e+00</td>\n",
              "      <td>0.000000e+00</td>\n",
              "      <td>0.000000e+00</td>\n",
              "      <td>1.0</td>\n",
              "    </tr>\n",
              "    <tr>\n",
              "      <th>25%</th>\n",
              "      <td>1.400000e+01</td>\n",
              "      <td>5.200000e+01</td>\n",
              "      <td>0.000000e+00</td>\n",
              "      <td>1.000000e+00</td>\n",
              "      <td>0.000000e+00</td>\n",
              "      <td>1.0</td>\n",
              "    </tr>\n",
              "    <tr>\n",
              "      <th>50%</th>\n",
              "      <td>1.900000e+01</td>\n",
              "      <td>2.170000e+02</td>\n",
              "      <td>0.000000e+00</td>\n",
              "      <td>2.000000e+00</td>\n",
              "      <td>4.000000e+00</td>\n",
              "      <td>1.0</td>\n",
              "    </tr>\n",
              "    <tr>\n",
              "      <th>75%</th>\n",
              "      <td>6.000000e+01</td>\n",
              "      <td>6.110000e+02</td>\n",
              "      <td>0.000000e+00</td>\n",
              "      <td>3.000000e+00</td>\n",
              "      <td>7.000000e+00</td>\n",
              "      <td>1.0</td>\n",
              "    </tr>\n",
              "    <tr>\n",
              "      <th>max</th>\n",
              "      <td>3.443000e+03</td>\n",
              "      <td>1.632000e+03</td>\n",
              "      <td>8.290000e+02</td>\n",
              "      <td>1.000000e+01</td>\n",
              "      <td>1.600000e+01</td>\n",
              "      <td>1.0</td>\n",
              "    </tr>\n",
              "  </tbody>\n",
              "</table>\n",
              "</div>"
            ],
            "text/plain": [
              "            zone_id     banner_id  ...    country_id  impressions\n",
              "count  1.582147e+07  1.582147e+07  ...  1.582147e+07   15821472.0\n",
              "mean   8.152679e+01  3.816483e+02  ...  4.346986e+00          1.0\n",
              "std    1.632448e+02  3.959386e+02  ...  4.317701e+00          0.0\n",
              "min    0.000000e+00  0.000000e+00  ...  0.000000e+00          1.0\n",
              "25%    1.400000e+01  5.200000e+01  ...  0.000000e+00          1.0\n",
              "50%    1.900000e+01  2.170000e+02  ...  4.000000e+00          1.0\n",
              "75%    6.000000e+01  6.110000e+02  ...  7.000000e+00          1.0\n",
              "max    3.443000e+03  1.632000e+03  ...  1.600000e+01          1.0\n",
              "\n",
              "[8 rows x 6 columns]"
            ]
          },
          "metadata": {},
          "execution_count": 7
        }
      ]
    },
    {
      "cell_type": "markdown",
      "metadata": {
        "id": "DxOyFb_x6sU3"
      },
      "source": [
        "Видим, что impressions - неинтересная фича, колонка заполнена исключительно единицами. Избавляемся от нее."
      ]
    },
    {
      "cell_type": "code",
      "metadata": {
        "colab": {
          "base_uri": "https://localhost:8080/",
          "height": 206
        },
        "id": "vnXLXZ6X7DdE",
        "outputId": "162ef992-1494-404a-ac52-dd0f06ca64a4"
      },
      "source": [
        "df.drop('impressions', axis=1, inplace=True)\n",
        "df.head()"
      ],
      "execution_count": 8,
      "outputs": [
        {
          "output_type": "execute_result",
          "data": {
            "text/html": [
              "<div>\n",
              "<style scoped>\n",
              "    .dataframe tbody tr th:only-of-type {\n",
              "        vertical-align: middle;\n",
              "    }\n",
              "\n",
              "    .dataframe tbody tr th {\n",
              "        vertical-align: top;\n",
              "    }\n",
              "\n",
              "    .dataframe thead th {\n",
              "        text-align: right;\n",
              "    }\n",
              "</style>\n",
              "<table border=\"1\" class=\"dataframe\">\n",
              "  <thead>\n",
              "    <tr style=\"text-align: right;\">\n",
              "      <th></th>\n",
              "      <th>date_time</th>\n",
              "      <th>zone_id</th>\n",
              "      <th>banner_id</th>\n",
              "      <th>campaign_clicks</th>\n",
              "      <th>os_id</th>\n",
              "      <th>country_id</th>\n",
              "    </tr>\n",
              "  </thead>\n",
              "  <tbody>\n",
              "    <tr>\n",
              "      <th>0</th>\n",
              "      <td>2021-09-27 00:01:30.000000</td>\n",
              "      <td>0</td>\n",
              "      <td>0</td>\n",
              "      <td>0</td>\n",
              "      <td>0</td>\n",
              "      <td>0</td>\n",
              "    </tr>\n",
              "    <tr>\n",
              "      <th>1</th>\n",
              "      <td>2021-09-26 22:54:49.000000</td>\n",
              "      <td>1</td>\n",
              "      <td>1</td>\n",
              "      <td>0</td>\n",
              "      <td>0</td>\n",
              "      <td>1</td>\n",
              "    </tr>\n",
              "    <tr>\n",
              "      <th>2</th>\n",
              "      <td>2021-09-26 23:57:20.000000</td>\n",
              "      <td>2</td>\n",
              "      <td>2</td>\n",
              "      <td>3</td>\n",
              "      <td>0</td>\n",
              "      <td>0</td>\n",
              "    </tr>\n",
              "    <tr>\n",
              "      <th>3</th>\n",
              "      <td>2021-09-27 00:04:30.000000</td>\n",
              "      <td>3</td>\n",
              "      <td>3</td>\n",
              "      <td>0</td>\n",
              "      <td>1</td>\n",
              "      <td>1</td>\n",
              "    </tr>\n",
              "    <tr>\n",
              "      <th>4</th>\n",
              "      <td>2021-09-27 00:06:21.000000</td>\n",
              "      <td>4</td>\n",
              "      <td>4</td>\n",
              "      <td>0</td>\n",
              "      <td>1</td>\n",
              "      <td>0</td>\n",
              "    </tr>\n",
              "  </tbody>\n",
              "</table>\n",
              "</div>"
            ],
            "text/plain": [
              "                    date_time  zone_id  ...  os_id  country_id\n",
              "0  2021-09-27 00:01:30.000000        0  ...      0           0\n",
              "1  2021-09-26 22:54:49.000000        1  ...      0           1\n",
              "2  2021-09-26 23:57:20.000000        2  ...      0           0\n",
              "3  2021-09-27 00:04:30.000000        3  ...      1           1\n",
              "4  2021-09-27 00:06:21.000000        4  ...      1           0\n",
              "\n",
              "[5 rows x 6 columns]"
            ]
          },
          "metadata": {},
          "execution_count": 8
        }
      ]
    },
    {
      "cell_type": "markdown",
      "metadata": {
        "id": "M50mM5B_73aN"
      },
      "source": [
        "Посмотрим на категориальные фичи"
      ]
    },
    {
      "cell_type": "code",
      "metadata": {
        "colab": {
          "base_uri": "https://localhost:8080/",
          "height": 1000
        },
        "id": "eU1sLAOd8lEZ",
        "outputId": "c354c637-6a5a-4401-f8cf-0c63dfb0e458"
      },
      "source": [
        "for feature in ['zone_id', 'banner_id', 'os_id', 'country_id']:\n",
        "  plt.figure(figsize=(15, 15))\n",
        "  plt.scatter(range(len(df[feature].unique())), df[feature].value_counts().cumsum(), color='darkblue', s=20)\n",
        "  plt.title(f'{feature} {len(df[feature].unique())}')\n",
        "  plt.show()"
      ],
      "execution_count": 9,
      "outputs": [
        {
          "output_type": "display_data",
          "data": {
            "image/png": "[encoded data removed]",
            "text/plain": [
              "<Figure size 1080x1080 with 1 Axes>"
            ]
          },
          "metadata": {
            "needs_background": "light"
          }
        },
        {
          "output_type": "display_data",
          "data": {
            "image/png": "[encoded data removed]",
            "text/plain": [
              "<Figure size 1080x1080 with 1 Axes>"
            ]
          },
          "metadata": {
            "needs_background": "light"
          }
        },
        {
          "output_type": "display_data",
          "data": {
            "image/png": "[encoded data removed]",
            "text/plain": [
              "<Figure size 1080x1080 with 1 Axes>"
            ]
          },
          "metadata": {
            "needs_background": "light"
          }
        },
        {
          "output_type": "display_data",
          "data": {
            "image/png": "[encoded data removed]",
            "text/plain": [
              "<Figure size 1080x1080 with 1 Axes>"
            ]
          },
          "metadata": {
            "needs_background": "light"
          }
        }
      ]
    },
    {
      "cell_type": "markdown",
      "metadata": {
        "id": "xNUEdGDxDr-A"
      },
      "source": [
        "У зоны баннера и id самого баннера много уникальных значений (много зон, много баннеров), но большинство из них редкие. На операционные системы и страны, где уникальных значений мало, сейчас посмотрим внимательнее."
      ]
    },
    {
      "cell_type": "code",
      "metadata": {
        "colab": {
          "base_uri": "https://localhost:8080/"
        },
        "id": "hSWs47NEDHgN",
        "outputId": "79257030-c720-479c-ca25-a8c7898113fc"
      },
      "source": [
        "df['os_id'].value_counts()"
      ],
      "execution_count": 10,
      "outputs": [
        {
          "output_type": "execute_result",
          "data": {
            "text/plain": [
              "2     4589979\n",
              "0     3856798\n",
              "1     3178693\n",
              "4     3012541\n",
              "3      759767\n",
              "6      310346\n",
              "5      111946\n",
              "8        1273\n",
              "7          99\n",
              "9          25\n",
              "10          5\n",
              "Name: os_id, dtype: int64"
            ]
          },
          "metadata": {},
          "execution_count": 10
        }
      ]
    },
    {
      "cell_type": "markdown",
      "metadata": {
        "id": "iZOg4MlIERSn"
      },
      "source": [
        "7 из 11 операционных систем популярны, остальные скорее редкие, так их и закодируем"
      ]
    },
    {
      "cell_type": "code",
      "metadata": {
        "colab": {
          "base_uri": "https://localhost:8080/"
        },
        "id": "uNK-v5HGEbcz",
        "outputId": "859c073e-5974-4d61-9018-55ed2fe71160"
      },
      "source": [
        "df['country_id'].value_counts()"
      ],
      "execution_count": 11,
      "outputs": [
        {
          "output_type": "execute_result",
          "data": {
            "text/plain": [
              "0     4956393\n",
              "5     1910054\n",
              "6     1582705\n",
              "7     1525569\n",
              "1     1346321\n",
              "3     1337392\n",
              "15     603301\n",
              "12     478038\n",
              "9      439004\n",
              "4      388801\n",
              "10     356490\n",
              "11     212245\n",
              "8      210211\n",
              "13     190855\n",
              "14     138385\n",
              "16      79166\n",
              "2       66542\n",
              "Name: country_id, dtype: int64"
            ]
          },
          "metadata": {},
          "execution_count": 11
        }
      ]
    },
    {
      "cell_type": "markdown",
      "metadata": {
        "id": "_lAltQ9oEhce"
      },
      "source": [
        "Везде живет достаточно людей, страны закодируем как есть. Теперь посмотрим на время (а именно на дни): "
      ]
    },
    {
      "cell_type": "code",
      "metadata": {
        "colab": {
          "base_uri": "https://localhost:8080/"
        },
        "id": "mfdGGS_fjZC6",
        "outputId": "b25424fc-5d26-4471-a330-f8ada4879fa9"
      },
      "source": [
        "days = df['date_time'].apply(lambda x: x[:10])\n",
        "days.value_counts()"
      ],
      "execution_count": 12,
      "outputs": [
        {
          "output_type": "execute_result",
          "data": {
            "text/plain": [
              "2021-09-26    3102610\n",
              "2021-09-29    2420588\n",
              "2021-09-27    2367303\n",
              "2021-09-28    2307355\n",
              "2021-10-02    2128978\n",
              "2021-09-30    1851189\n",
              "2021-10-01    1643448\n",
              "2021-09-01          1\n",
              "Name: date_time, dtype: int64"
            ]
          },
          "metadata": {},
          "execution_count": 12
        }
      ]
    },
    {
      "cell_type": "markdown",
      "metadata": {
        "id": "eU5A6i2xFEPo"
      },
      "source": [
        "Мы видим неделю в конце сентября-начале октября и один лишний день, его выкинем. Ясно, что нельзя использовать с такой обучающей выборкой день недели или месяц, потому что по ним нет повторяемости в разные недели/года. "
      ]
    },
    {
      "cell_type": "markdown",
      "metadata": {
        "id": "HsFRrYadHwHX"
      },
      "source": [
        "**Feature engineering**"
      ]
    },
    {
      "cell_type": "markdown",
      "metadata": {
        "id": "FS83VZxZIMDu"
      },
      "source": [
        "Добавим данные времени (сначала все)"
      ]
    },
    {
      "cell_type": "code",
      "metadata": {
        "id": "aToBHQpbCPZR"
      },
      "source": [
        "def get_features(df):\n",
        "  # время\n",
        "  hour = df['date_time'].apply(lambda x: int(x[11:13]))\n",
        "  df['hour'] = hour\n",
        "  df['daytime'] = hour // 6\n",
        "\n",
        "  # заменяем разные редкие категории на общую\n",
        "  zone_mask = df['zone_id'].isin(df.groupby('zone_id')['date_time'].count().sort_values(key=lambda x: -x).index[250:])\n",
        "  df.loc[zone_mask, 'zone_id'] = -1\n",
        "\n",
        "  banner_mask = df['banner_id'].isin(df.groupby('banner_id')['date_time'].count().sort_values(key=lambda x: -x).index[600:])\n",
        "  df.loc[banner_mask, 'banner_id'] = -1\n",
        "\n",
        "  os_mask = df['os_id'].isin(df.groupby('os_id')['date_time'].count().sort_values(key=lambda x: -x).index[7:])\n",
        "  df.loc[os_mask, 'os_id'] = -1\n",
        "\n",
        "\n",
        "  # добавляем интеракции - зона + операционка, баннер + час, баннер + время суток, баннер + операционка (много выходит, да)\n",
        "\n",
        "  df['zone+os'] = df['zone_id'].astype(str) + '+' + df['os_id'].astype(str)\n",
        "  df['hour+banner'] = df['hour'].astype(str) + '+' + df['banner_id'].astype(str)\n",
        "  df['daytime+banner'] = df['daytime'].astype(str) + '+' + df['banner_id'].astype(str)\n",
        "  df['os+banner'] = df['os_id'].astype(str) + '+' + df['banner_id'].astype(str)\n",
        "\n",
        "  # Тут можно было бы помучиться с возможностью учесть таргет - клики - за прошедшнее время,\n",
        "  # коль скоро все равно предсказываем будущее (и cv должна быть соответствующая).\n",
        "  # И еще для категориальных фичей с кучей значений неплохо подошел бы target encoding. Но имеем то, что имеем."
      ],
      "execution_count": 13,
      "outputs": []
    },
    {
      "cell_type": "code",
      "metadata": {
        "colab": {
          "base_uri": "https://localhost:8080/",
          "height": 424
        },
        "id": "g9hH6_7YmPXl",
        "outputId": "04c13e64-bf13-461f-a111-ea93a8ad61e6"
      },
      "source": [
        "get_features(df)\n",
        "df"
      ],
      "execution_count": 14,
      "outputs": [
        {
          "output_type": "execute_result",
          "data": {
            "text/html": [
              "<div>\n",
              "<style scoped>\n",
              "    .dataframe tbody tr th:only-of-type {\n",
              "        vertical-align: middle;\n",
              "    }\n",
              "\n",
              "    .dataframe tbody tr th {\n",
              "        vertical-align: top;\n",
              "    }\n",
              "\n",
              "    .dataframe thead th {\n",
              "        text-align: right;\n",
              "    }\n",
              "</style>\n",
              "<table border=\"1\" class=\"dataframe\">\n",
              "  <thead>\n",
              "    <tr style=\"text-align: right;\">\n",
              "      <th></th>\n",
              "      <th>date_time</th>\n",
              "      <th>zone_id</th>\n",
              "      <th>banner_id</th>\n",
              "      <th>campaign_clicks</th>\n",
              "      <th>os_id</th>\n",
              "      <th>country_id</th>\n",
              "      <th>hour</th>\n",
              "      <th>daytime</th>\n",
              "      <th>zone+os</th>\n",
              "      <th>hour+banner</th>\n",
              "      <th>daytime+banner</th>\n",
              "      <th>os+banner</th>\n",
              "    </tr>\n",
              "  </thead>\n",
              "  <tbody>\n",
              "    <tr>\n",
              "      <th>0</th>\n",
              "      <td>2021-09-27 00:01:30.000000</td>\n",
              "      <td>0</td>\n",
              "      <td>0</td>\n",
              "      <td>0</td>\n",
              "      <td>0</td>\n",
              "      <td>0</td>\n",
              "      <td>0</td>\n",
              "      <td>0</td>\n",
              "      <td>0+0</td>\n",
              "      <td>0+0</td>\n",
              "      <td>0+0</td>\n",
              "      <td>0+0</td>\n",
              "    </tr>\n",
              "    <tr>\n",
              "      <th>1</th>\n",
              "      <td>2021-09-26 22:54:49.000000</td>\n",
              "      <td>1</td>\n",
              "      <td>1</td>\n",
              "      <td>0</td>\n",
              "      <td>0</td>\n",
              "      <td>1</td>\n",
              "      <td>22</td>\n",
              "      <td>3</td>\n",
              "      <td>1+0</td>\n",
              "      <td>22+1</td>\n",
              "      <td>3+1</td>\n",
              "      <td>0+1</td>\n",
              "    </tr>\n",
              "    <tr>\n",
              "      <th>2</th>\n",
              "      <td>2021-09-26 23:57:20.000000</td>\n",
              "      <td>2</td>\n",
              "      <td>2</td>\n",
              "      <td>3</td>\n",
              "      <td>0</td>\n",
              "      <td>0</td>\n",
              "      <td>23</td>\n",
              "      <td>3</td>\n",
              "      <td>2+0</td>\n",
              "      <td>23+2</td>\n",
              "      <td>3+2</td>\n",
              "      <td>0+2</td>\n",
              "    </tr>\n",
              "    <tr>\n",
              "      <th>3</th>\n",
              "      <td>2021-09-27 00:04:30.000000</td>\n",
              "      <td>3</td>\n",
              "      <td>3</td>\n",
              "      <td>0</td>\n",
              "      <td>1</td>\n",
              "      <td>1</td>\n",
              "      <td>0</td>\n",
              "      <td>0</td>\n",
              "      <td>3+1</td>\n",
              "      <td>0+3</td>\n",
              "      <td>0+3</td>\n",
              "      <td>1+3</td>\n",
              "    </tr>\n",
              "    <tr>\n",
              "      <th>4</th>\n",
              "      <td>2021-09-27 00:06:21.000000</td>\n",
              "      <td>4</td>\n",
              "      <td>4</td>\n",
              "      <td>0</td>\n",
              "      <td>1</td>\n",
              "      <td>0</td>\n",
              "      <td>0</td>\n",
              "      <td>0</td>\n",
              "      <td>4+1</td>\n",
              "      <td>0+4</td>\n",
              "      <td>0+4</td>\n",
              "      <td>1+4</td>\n",
              "    </tr>\n",
              "    <tr>\n",
              "      <th>...</th>\n",
              "      <td>...</td>\n",
              "      <td>...</td>\n",
              "      <td>...</td>\n",
              "      <td>...</td>\n",
              "      <td>...</td>\n",
              "      <td>...</td>\n",
              "      <td>...</td>\n",
              "      <td>...</td>\n",
              "      <td>...</td>\n",
              "      <td>...</td>\n",
              "      <td>...</td>\n",
              "      <td>...</td>\n",
              "    </tr>\n",
              "    <tr>\n",
              "      <th>15821467</th>\n",
              "      <td>2021-10-02 15:51:35.000000</td>\n",
              "      <td>146</td>\n",
              "      <td>530</td>\n",
              "      <td>0</td>\n",
              "      <td>2</td>\n",
              "      <td>9</td>\n",
              "      <td>15</td>\n",
              "      <td>2</td>\n",
              "      <td>146+2</td>\n",
              "      <td>15+530</td>\n",
              "      <td>2+530</td>\n",
              "      <td>2+530</td>\n",
              "    </tr>\n",
              "    <tr>\n",
              "      <th>15821468</th>\n",
              "      <td>2021-09-27 22:03:14.000000</td>\n",
              "      <td>12</td>\n",
              "      <td>22</td>\n",
              "      <td>0</td>\n",
              "      <td>1</td>\n",
              "      <td>6</td>\n",
              "      <td>22</td>\n",
              "      <td>3</td>\n",
              "      <td>12+1</td>\n",
              "      <td>22+22</td>\n",
              "      <td>3+22</td>\n",
              "      <td>1+22</td>\n",
              "    </tr>\n",
              "    <tr>\n",
              "      <th>15821469</th>\n",
              "      <td>2021-10-02 17:41:10.000000</td>\n",
              "      <td>12</td>\n",
              "      <td>1236</td>\n",
              "      <td>0</td>\n",
              "      <td>2</td>\n",
              "      <td>0</td>\n",
              "      <td>17</td>\n",
              "      <td>2</td>\n",
              "      <td>12+2</td>\n",
              "      <td>17+1236</td>\n",
              "      <td>2+1236</td>\n",
              "      <td>2+1236</td>\n",
              "    </tr>\n",
              "    <tr>\n",
              "      <th>15821470</th>\n",
              "      <td>2021-09-29 00:39:32.000000</td>\n",
              "      <td>-1</td>\n",
              "      <td>21</td>\n",
              "      <td>0</td>\n",
              "      <td>0</td>\n",
              "      <td>0</td>\n",
              "      <td>0</td>\n",
              "      <td>0</td>\n",
              "      <td>-1+0</td>\n",
              "      <td>0+21</td>\n",
              "      <td>0+21</td>\n",
              "      <td>0+21</td>\n",
              "    </tr>\n",
              "    <tr>\n",
              "      <th>15821471</th>\n",
              "      <td>2021-09-28 07:00:18.000000</td>\n",
              "      <td>19</td>\n",
              "      <td>635</td>\n",
              "      <td>0</td>\n",
              "      <td>0</td>\n",
              "      <td>3</td>\n",
              "      <td>7</td>\n",
              "      <td>1</td>\n",
              "      <td>19+0</td>\n",
              "      <td>7+635</td>\n",
              "      <td>1+635</td>\n",
              "      <td>0+635</td>\n",
              "    </tr>\n",
              "  </tbody>\n",
              "</table>\n",
              "<p>15821472 rows × 12 columns</p>\n",
              "</div>"
            ],
            "text/plain": [
              "                           date_time  zone_id  ...  daytime+banner  os+banner\n",
              "0         2021-09-27 00:01:30.000000        0  ...             0+0        0+0\n",
              "1         2021-09-26 22:54:49.000000        1  ...             3+1        0+1\n",
              "2         2021-09-26 23:57:20.000000        2  ...             3+2        0+2\n",
              "3         2021-09-27 00:04:30.000000        3  ...             0+3        1+3\n",
              "4         2021-09-27 00:06:21.000000        4  ...             0+4        1+4\n",
              "...                              ...      ...  ...             ...        ...\n",
              "15821467  2021-10-02 15:51:35.000000      146  ...           2+530      2+530\n",
              "15821468  2021-09-27 22:03:14.000000       12  ...            3+22       1+22\n",
              "15821469  2021-10-02 17:41:10.000000       12  ...          2+1236     2+1236\n",
              "15821470  2021-09-29 00:39:32.000000       -1  ...            0+21       0+21\n",
              "15821471  2021-09-28 07:00:18.000000       19  ...           1+635      0+635\n",
              "\n",
              "[15821472 rows x 12 columns]"
            ]
          },
          "metadata": {},
          "execution_count": 14
        }
      ]
    },
    {
      "cell_type": "code",
      "metadata": {
        "id": "DL25Cv3fkakz"
      },
      "source": [
        "df.to_csv('new_data.csv', index=False)\n",
        "target.to_csv('target.csv', index=False)"
      ],
      "execution_count": null,
      "outputs": []
    },
    {
      "cell_type": "markdown",
      "metadata": {
        "id": "PL5WHxRg7csO"
      },
      "source": [
        "**Create model**"
      ]
    },
    {
      "cell_type": "markdown",
      "metadata": {
        "id": "9OPqIdj6DMGP"
      },
      "source": [
        "Будем обучаться по первым пяти дням, валидироваться по шестому, предсказывать седьмой"
      ]
    },
    {
      "cell_type": "code",
      "metadata": {
        "colab": {
          "base_uri": "https://localhost:8080/",
          "height": 424
        },
        "id": "KNwt15EeEIbG",
        "outputId": "012d5680-5410-4753-9427-3fe16c7da945"
      },
      "source": [
        "df = pd.read_csv('new_data.csv')\n",
        "df"
      ],
      "execution_count": 4,
      "outputs": [
        {
          "output_type": "execute_result",
          "data": {
            "text/html": [
              "<div>\n",
              "<style scoped>\n",
              "    .dataframe tbody tr th:only-of-type {\n",
              "        vertical-align: middle;\n",
              "    }\n",
              "\n",
              "    .dataframe tbody tr th {\n",
              "        vertical-align: top;\n",
              "    }\n",
              "\n",
              "    .dataframe thead th {\n",
              "        text-align: right;\n",
              "    }\n",
              "</style>\n",
              "<table border=\"1\" class=\"dataframe\">\n",
              "  <thead>\n",
              "    <tr style=\"text-align: right;\">\n",
              "      <th></th>\n",
              "      <th>date_time</th>\n",
              "      <th>zone_id</th>\n",
              "      <th>banner_id</th>\n",
              "      <th>campaign_clicks</th>\n",
              "      <th>os_id</th>\n",
              "      <th>country_id</th>\n",
              "      <th>hour</th>\n",
              "      <th>daytime</th>\n",
              "      <th>zone+os</th>\n",
              "      <th>hour+banner</th>\n",
              "      <th>daytime+banner</th>\n",
              "      <th>os+banner</th>\n",
              "    </tr>\n",
              "  </thead>\n",
              "  <tbody>\n",
              "    <tr>\n",
              "      <th>0</th>\n",
              "      <td>2021-09-27 00:01:30.000000</td>\n",
              "      <td>0</td>\n",
              "      <td>0</td>\n",
              "      <td>0</td>\n",
              "      <td>0</td>\n",
              "      <td>0</td>\n",
              "      <td>0</td>\n",
              "      <td>0</td>\n",
              "      <td>0+0</td>\n",
              "      <td>0+0</td>\n",
              "      <td>0+0</td>\n",
              "      <td>0+0</td>\n",
              "    </tr>\n",
              "    <tr>\n",
              "      <th>1</th>\n",
              "      <td>2021-09-26 22:54:49.000000</td>\n",
              "      <td>1</td>\n",
              "      <td>1</td>\n",
              "      <td>0</td>\n",
              "      <td>0</td>\n",
              "      <td>1</td>\n",
              "      <td>22</td>\n",
              "      <td>3</td>\n",
              "      <td>1+0</td>\n",
              "      <td>22+1</td>\n",
              "      <td>3+1</td>\n",
              "      <td>0+1</td>\n",
              "    </tr>\n",
              "    <tr>\n",
              "      <th>2</th>\n",
              "      <td>2021-09-26 23:57:20.000000</td>\n",
              "      <td>2</td>\n",
              "      <td>2</td>\n",
              "      <td>3</td>\n",
              "      <td>0</td>\n",
              "      <td>0</td>\n",
              "      <td>23</td>\n",
              "      <td>3</td>\n",
              "      <td>2+0</td>\n",
              "      <td>23+2</td>\n",
              "      <td>3+2</td>\n",
              "      <td>0+2</td>\n",
              "    </tr>\n",
              "    <tr>\n",
              "      <th>3</th>\n",
              "      <td>2021-09-27 00:04:30.000000</td>\n",
              "      <td>3</td>\n",
              "      <td>3</td>\n",
              "      <td>0</td>\n",
              "      <td>1</td>\n",
              "      <td>1</td>\n",
              "      <td>0</td>\n",
              "      <td>0</td>\n",
              "      <td>3+1</td>\n",
              "      <td>0+3</td>\n",
              "      <td>0+3</td>\n",
              "      <td>1+3</td>\n",
              "    </tr>\n",
              "    <tr>\n",
              "      <th>4</th>\n",
              "      <td>2021-09-27 00:06:21.000000</td>\n",
              "      <td>4</td>\n",
              "      <td>4</td>\n",
              "      <td>0</td>\n",
              "      <td>1</td>\n",
              "      <td>0</td>\n",
              "      <td>0</td>\n",
              "      <td>0</td>\n",
              "      <td>4+1</td>\n",
              "      <td>0+4</td>\n",
              "      <td>0+4</td>\n",
              "      <td>1+4</td>\n",
              "    </tr>\n",
              "    <tr>\n",
              "      <th>...</th>\n",
              "      <td>...</td>\n",
              "      <td>...</td>\n",
              "      <td>...</td>\n",
              "      <td>...</td>\n",
              "      <td>...</td>\n",
              "      <td>...</td>\n",
              "      <td>...</td>\n",
              "      <td>...</td>\n",
              "      <td>...</td>\n",
              "      <td>...</td>\n",
              "      <td>...</td>\n",
              "      <td>...</td>\n",
              "    </tr>\n",
              "    <tr>\n",
              "      <th>15821467</th>\n",
              "      <td>2021-10-02 15:51:35.000000</td>\n",
              "      <td>146</td>\n",
              "      <td>530</td>\n",
              "      <td>0</td>\n",
              "      <td>2</td>\n",
              "      <td>9</td>\n",
              "      <td>15</td>\n",
              "      <td>2</td>\n",
              "      <td>146+2</td>\n",
              "      <td>15+530</td>\n",
              "      <td>2+530</td>\n",
              "      <td>2+530</td>\n",
              "    </tr>\n",
              "    <tr>\n",
              "      <th>15821468</th>\n",
              "      <td>2021-09-27 22:03:14.000000</td>\n",
              "      <td>12</td>\n",
              "      <td>22</td>\n",
              "      <td>0</td>\n",
              "      <td>1</td>\n",
              "      <td>6</td>\n",
              "      <td>22</td>\n",
              "      <td>3</td>\n",
              "      <td>12+1</td>\n",
              "      <td>22+22</td>\n",
              "      <td>3+22</td>\n",
              "      <td>1+22</td>\n",
              "    </tr>\n",
              "    <tr>\n",
              "      <th>15821469</th>\n",
              "      <td>2021-10-02 17:41:10.000000</td>\n",
              "      <td>12</td>\n",
              "      <td>1236</td>\n",
              "      <td>0</td>\n",
              "      <td>2</td>\n",
              "      <td>0</td>\n",
              "      <td>17</td>\n",
              "      <td>2</td>\n",
              "      <td>12+2</td>\n",
              "      <td>17+1236</td>\n",
              "      <td>2+1236</td>\n",
              "      <td>2+1236</td>\n",
              "    </tr>\n",
              "    <tr>\n",
              "      <th>15821470</th>\n",
              "      <td>2021-09-29 00:39:32.000000</td>\n",
              "      <td>-1</td>\n",
              "      <td>21</td>\n",
              "      <td>0</td>\n",
              "      <td>0</td>\n",
              "      <td>0</td>\n",
              "      <td>0</td>\n",
              "      <td>0</td>\n",
              "      <td>-1+0</td>\n",
              "      <td>0+21</td>\n",
              "      <td>0+21</td>\n",
              "      <td>0+21</td>\n",
              "    </tr>\n",
              "    <tr>\n",
              "      <th>15821471</th>\n",
              "      <td>2021-09-28 07:00:18.000000</td>\n",
              "      <td>19</td>\n",
              "      <td>635</td>\n",
              "      <td>0</td>\n",
              "      <td>0</td>\n",
              "      <td>3</td>\n",
              "      <td>7</td>\n",
              "      <td>1</td>\n",
              "      <td>19+0</td>\n",
              "      <td>7+635</td>\n",
              "      <td>1+635</td>\n",
              "      <td>0+635</td>\n",
              "    </tr>\n",
              "  </tbody>\n",
              "</table>\n",
              "<p>15821472 rows × 12 columns</p>\n",
              "</div>"
            ],
            "text/plain": [
              "                           date_time  zone_id  ...  daytime+banner  os+banner\n",
              "0         2021-09-27 00:01:30.000000        0  ...             0+0        0+0\n",
              "1         2021-09-26 22:54:49.000000        1  ...             3+1        0+1\n",
              "2         2021-09-26 23:57:20.000000        2  ...             3+2        0+2\n",
              "3         2021-09-27 00:04:30.000000        3  ...             0+3        1+3\n",
              "4         2021-09-27 00:06:21.000000        4  ...             0+4        1+4\n",
              "...                              ...      ...  ...             ...        ...\n",
              "15821467  2021-10-02 15:51:35.000000      146  ...           2+530      2+530\n",
              "15821468  2021-09-27 22:03:14.000000       12  ...            3+22       1+22\n",
              "15821469  2021-10-02 17:41:10.000000       12  ...          2+1236     2+1236\n",
              "15821470  2021-09-29 00:39:32.000000       -1  ...            0+21       0+21\n",
              "15821471  2021-09-28 07:00:18.000000       19  ...           1+635      0+635\n",
              "\n",
              "[15821472 rows x 12 columns]"
            ]
          },
          "metadata": {},
          "execution_count": 4
        }
      ]
    },
    {
      "cell_type": "code",
      "metadata": {
        "colab": {
          "base_uri": "https://localhost:8080/",
          "height": 424
        },
        "id": "dwekiLcyForA",
        "outputId": "4d2fd5d6-8125-4041-ddf6-1c3d265c260a"
      },
      "source": [
        "target = pd.read_csv('target.csv')\n",
        "target"
      ],
      "execution_count": 5,
      "outputs": [
        {
          "output_type": "execute_result",
          "data": {
            "text/html": [
              "<div>\n",
              "<style scoped>\n",
              "    .dataframe tbody tr th:only-of-type {\n",
              "        vertical-align: middle;\n",
              "    }\n",
              "\n",
              "    .dataframe tbody tr th {\n",
              "        vertical-align: top;\n",
              "    }\n",
              "\n",
              "    .dataframe thead th {\n",
              "        text-align: right;\n",
              "    }\n",
              "</style>\n",
              "<table border=\"1\" class=\"dataframe\">\n",
              "  <thead>\n",
              "    <tr style=\"text-align: right;\">\n",
              "      <th></th>\n",
              "      <th>clicks</th>\n",
              "    </tr>\n",
              "  </thead>\n",
              "  <tbody>\n",
              "    <tr>\n",
              "      <th>0</th>\n",
              "      <td>1</td>\n",
              "    </tr>\n",
              "    <tr>\n",
              "      <th>1</th>\n",
              "      <td>1</td>\n",
              "    </tr>\n",
              "    <tr>\n",
              "      <th>2</th>\n",
              "      <td>1</td>\n",
              "    </tr>\n",
              "    <tr>\n",
              "      <th>3</th>\n",
              "      <td>1</td>\n",
              "    </tr>\n",
              "    <tr>\n",
              "      <th>4</th>\n",
              "      <td>1</td>\n",
              "    </tr>\n",
              "    <tr>\n",
              "      <th>...</th>\n",
              "      <td>...</td>\n",
              "    </tr>\n",
              "    <tr>\n",
              "      <th>15821467</th>\n",
              "      <td>0</td>\n",
              "    </tr>\n",
              "    <tr>\n",
              "      <th>15821468</th>\n",
              "      <td>0</td>\n",
              "    </tr>\n",
              "    <tr>\n",
              "      <th>15821469</th>\n",
              "      <td>0</td>\n",
              "    </tr>\n",
              "    <tr>\n",
              "      <th>15821470</th>\n",
              "      <td>0</td>\n",
              "    </tr>\n",
              "    <tr>\n",
              "      <th>15821471</th>\n",
              "      <td>0</td>\n",
              "    </tr>\n",
              "  </tbody>\n",
              "</table>\n",
              "<p>15821472 rows × 1 columns</p>\n",
              "</div>"
            ],
            "text/plain": [
              "          clicks\n",
              "0              1\n",
              "1              1\n",
              "2              1\n",
              "3              1\n",
              "4              1\n",
              "...          ...\n",
              "15821467       0\n",
              "15821468       0\n",
              "15821469       0\n",
              "15821470       0\n",
              "15821471       0\n",
              "\n",
              "[15821472 rows x 1 columns]"
            ]
          },
          "metadata": {},
          "execution_count": 5
        }
      ]
    },
    {
      "cell_type": "markdown",
      "metadata": {
        "id": "sUGgb0snK4ff"
      },
      "source": [
        "Мы, разумеется, будем использовать разреженные матрицы"
      ]
    },
    {
      "cell_type": "code",
      "metadata": {
        "id": "J9a2psO0K_mk"
      },
      "source": [
        "def get_sparse(df_train, df_val, df_test):\n",
        "  ohe = OneHotEncoder(handle_unknown='ignore')\n",
        "  scaler = StandardScaler()\n",
        "  features = ['zone_id', 'banner_id', 'os_id', 'country_id', 'hour', 'daytime',\n",
        "              'zone+os', 'hour+banner', 'daytime+banner', 'os+banner']\n",
        "  to_train = []\n",
        "  to_val = []\n",
        "  to_test = []\n",
        "  for feature in features:\n",
        "    to_train.append(ohe.fit_transform(df_train[[feature]]))\n",
        "    to_val.append(ohe.transform(df_val[[feature]]))\n",
        "    to_test.append(ohe.transform(df_test[[feature]]))\n",
        "\n",
        "\n",
        "  to_train.append(sparse.csr_matrix(scaler.fit_transform(df_train[['campaign_clicks']])))\n",
        "  to_val.append(sparse.csr_matrix(scaler.transform(df_val[['campaign_clicks']])))\n",
        "  to_test.append(sparse.csr_matrix(scaler.transform(df_test[['campaign_clicks']])))\n",
        "\n",
        "\n",
        "  X_train = sparse.hstack(to_train)\n",
        "  X_val = sparse.hstack(to_val)\n",
        "  X_test = sparse.hstack(to_test)\n",
        "\n",
        "\n",
        "  X_train = X_train.tocsr()\n",
        "  X_val = X_val.tocsr()\n",
        "  X_test = X_test.tocsr()\n",
        "  return X_train, X_val, X_test"
      ],
      "execution_count": 6,
      "outputs": []
    },
    {
      "cell_type": "code",
      "metadata": {
        "id": "ACL8ZTauDM0E"
      },
      "source": [
        "df_train, y_train = df[df['date_time'] < '2021-10-01'], target[df['date_time'] < '2021-10-01']\n",
        "df_val, y_val = df[(df['date_time'] >= '2021-10-01') & (df['date_time'] < '2021-10-02')], target[(df['date_time'] >= '2021-10-01') & (df['date_time'] < '2021-10-02')]\n",
        "df_test, y_test = df[df['date_time'] > '2021-10-02'], target[df['date_time'] > '2021-10-02']  "
      ],
      "execution_count": 7,
      "outputs": []
    },
    {
      "cell_type": "code",
      "metadata": {
        "id": "z0TBerUpMtQD"
      },
      "source": [
        "X_train, X_val, X_test = get_sparse(df_train, df_val, df_test)"
      ],
      "execution_count": 8,
      "outputs": []
    },
    {
      "cell_type": "code",
      "metadata": {
        "colab": {
          "base_uri": "https://localhost:8080/"
        },
        "id": "tstQ5tbGjbRe",
        "outputId": "df986437-9e2e-4a14-e1a7-e162d2bd458e"
      },
      "source": [
        "print(X_train.shape, X_val.shape, X_test.shape)"
      ],
      "execution_count": 9,
      "outputs": [
        {
          "output_type": "stream",
          "name": "stdout",
          "text": [
            "(12049046, 18236) (1643448, 18236) (2128978, 18236)\n"
          ]
        }
      ]
    },
    {
      "cell_type": "code",
      "metadata": {
        "id": "EbkR2eQnjMC8"
      },
      "source": [
        "def create_model(C, X_train, y_train):\n",
        "  clf = LogisticRegression(C=C, solver='liblinear')\n",
        "  clf.fit(X_train, y_train)\n",
        "  return clf"
      ],
      "execution_count": 9,
      "outputs": []
    },
    {
      "cell_type": "markdown",
      "metadata": {
        "id": "NoerFl-vdPQC"
      },
      "source": [
        "Наконец пообучаем модели, пройдемся по разным C"
      ]
    },
    {
      "cell_type": "code",
      "metadata": {
        "colab": {
          "base_uri": "https://localhost:8080/"
        },
        "id": "qrsapGskM-B3",
        "outputId": "18330afc-c2c6-448c-c2b5-abd0bf3a3462"
      },
      "source": [
        "scores = []\n",
        "for C in [10 ** a for a in range(-3, 4)]:\n",
        "  clf = create_model(C, X_train, y_train.values.ravel())\n",
        "  y_pred = clf.predict_proba(X_val)[:, 1]\n",
        "  score = log_loss(y_val, y_pred)\n",
        "  scores.append(score)\n",
        "  print(C, score)"
      ],
      "execution_count": 10,
      "outputs": [
        {
          "output_type": "stream",
          "name": "stdout",
          "text": [
            "0.001 0.15529542148397862\n",
            "0.01 0.15179193426033685\n",
            "0.1 0.1511850617834189\n",
            "1 0.15181898532023955\n",
            "10 0.15317894577978655\n",
            "100 0.1548258581993187\n",
            "1000 0.15425492559435774\n"
          ]
        }
      ]
    },
    {
      "cell_type": "markdown",
      "metadata": {
        "id": "-JwKgpGdOzlY"
      },
      "source": [
        "Лучшее С - 0.1 "
      ]
    },
    {
      "cell_type": "code",
      "metadata": {
        "colab": {
          "base_uri": "https://localhost:8080/"
        },
        "id": "hFQ16OLwOje5",
        "outputId": "9be13ca4-4fa1-42d2-98d2-445087f5c041"
      },
      "source": [
        "clf = create_model(0.1, X_train, y_train)\n",
        "y_pred = clf.predict_proba(X_test)[:, 1]\n",
        "score = log_loss(y_test, y_pred)\n",
        "print(score)"
      ],
      "execution_count": 11,
      "outputs": [
        {
          "output_type": "stream",
          "name": "stderr",
          "text": [
            "/usr/local/lib/python3.7/dist-packages/sklearn/utils/validation.py:760: DataConversionWarning: A column-vector y was passed when a 1d array was expected. Please change the shape of y to (n_samples, ), for example using ravel().\n",
            "  y = column_or_1d(y, warn=True)\n"
          ]
        },
        {
          "output_type": "stream",
          "name": "stdout",
          "text": [
            "0.13477030772001006\n"
          ]
        }
      ]
    }
  ]
}